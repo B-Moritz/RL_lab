{
 "cells": [
  {
   "cell_type": "code",
   "execution_count": 175,
   "metadata": {},
   "outputs": [
    {
     "data": {
      "text/plain": [
       "'cpu'"
      ]
     },
     "execution_count": 175,
     "metadata": {},
     "output_type": "execute_result"
    }
   ],
   "source": [
    "import mitdeeplearning as mdl\n",
    "import gymnasium as gym\n",
    "import torch\n",
    "from torch import nn\n",
    "from torch.utils.data import Dataset, DataLoader\n",
    "import pandas as pd\n",
    "import numpy as np\n",
    "import matplotlib.pyplot as plt\n",
    "\n",
    "# Make device agnostic code\n",
    "device = \"cuda\" if torch.cuda.is_available() else \"cpu\"\n",
    "device"
   ]
  },
  {
   "cell_type": "code",
   "execution_count": 176,
   "metadata": {},
   "outputs": [
    {
     "name": "stdout",
     "output_type": "stream",
     "text": [
      "<bound method Discrete.contains of Discrete(2)>\n",
      "<bound method Box.contains of Box([-4.8000002e+00 -3.4028235e+38 -4.1887903e-01 -3.4028235e+38], [4.8000002e+00 3.4028235e+38 4.1887903e-01 3.4028235e+38], (4,), float32)>\n"
     ]
    }
   ],
   "source": [
    "environment_name = 'CartPole-v1'\n",
    "\n",
    "cur_env : gym.Env = gym.make(environment_name)\n",
    "\n",
    "print(cur_env.action_space.contains)\n",
    "print(cur_env.observation_space.contains)"
   ]
  },
  {
   "cell_type": "code",
   "execution_count": 177,
   "metadata": {},
   "outputs": [
    {
     "name": "stdout",
     "output_type": "stream",
     "text": [
      "Episode: 1, Score: 25.0\n",
      "Episode: 2, Score: 15.0\n",
      "Episode: 3, Score: 12.0\n",
      "Episode: 4, Score: 17.0\n",
      "Episode: 5, Score: 14.0\n",
      "Episode: 6, Score: 72.0\n",
      "Episode: 7, Score: 48.0\n",
      "Episode: 8, Score: 12.0\n",
      "Episode: 9, Score: 21.0\n",
      "Episode: 10, Score: 25.0\n"
     ]
    }
   ],
   "source": [
    "episodes = 10\n",
    "for episode in range(1, episodes+1):\n",
    "    done = False\n",
    "    cur_env.reset()\n",
    "    score = 0\n",
    "\n",
    "    while not done:\n",
    "        cur_action = cur_env.action_space.sample()\n",
    "        n_state, reward, done, info, temp = cur_env.step(cur_action)\n",
    "\n",
    "        score += reward\n",
    "\n",
    "    print(f\"Episode: {episode}, Score: {score}\")\n"
   ]
  },
  {
   "cell_type": "markdown",
   "metadata": {},
   "source": [
    "Memory buffer"
   ]
  },
  {
   "cell_type": "code",
   "execution_count": 178,
   "metadata": {},
   "outputs": [],
   "source": [
    "class Memory:\n",
    "    def __init__(self):\n",
    "        self.clear()\n",
    "\n",
    "    def clear(self):\n",
    "        self.observations = []\n",
    "        self.rewards = []\n",
    "        self.actions = []\n",
    "\n",
    "    def buffer_result(self, observation, reward, action):\n",
    "        self.observations.append(observation)\n",
    "        self.rewards.append(reward)\n",
    "        self.actions.append(action)"
   ]
  },
  {
   "cell_type": "markdown",
   "metadata": {},
   "source": [
    "Creating test data with three actions. Each datapoint has two input features x and y, that are normaly distributed."
   ]
  },
  {
   "cell_type": "code",
   "execution_count": 179,
   "metadata": {},
   "outputs": [],
   "source": [
    "epochs = 10\n",
    "\n",
    "\n",
    "dataset_size = 100\n",
    "n_classes = 3\n",
    "n_features = 2\n",
    "ground_truth = np.zeros((2, n_features, n_classes))"
   ]
  },
  {
   "cell_type": "code",
   "execution_count": 180,
   "metadata": {},
   "outputs": [
    {
     "data": {
      "text/plain": [
       "torch.Size([100, 3])"
      ]
     },
     "execution_count": 180,
     "metadata": {},
     "output_type": "execute_result"
    }
   ],
   "source": [
    "def create_feature(is_last, ground_truth, n_features, n_classes, dataset_size, dat_list):\n",
    "    mean = torch.randint(0, 10, (n_classes,))\n",
    "    std = np.ones_like(mean)*0.5#torch.rand(n_classes)*2\n",
    "    ground_truth[0, feature, :] = mean\n",
    "    ground_truth[1, feature, :] = std\n",
    "\n",
    "    if (dataset_size // n_classes)*n_classes < dataset_size:\n",
    "        last_class_size = dataset_size // n_classes + 1\n",
    "    else:\n",
    "        last_class_size = dataset_size // n_classes\n",
    "\n",
    "    class_1 = torch.normal(mean[0].float(), std[0], size=(dataset_size // n_classes, 1))\n",
    "    class_2 = torch.normal(mean[1].float(), std[1], size=(dataset_size // n_classes, 1))\n",
    "    class_3 = torch.normal(mean[2].float(), std[2], size=(last_class_size, 1))\n",
    "    \n",
    "    if is_last:\n",
    "        class_1 = torch.concat((class_1, torch.ones_like(class_1)), dim=1)\n",
    "        class_2 = torch.concat((class_2, torch.ones_like(class_2)*2), dim=1)\n",
    "        class_3 = torch.concat((class_3, torch.ones_like(class_3)*3), dim=1)\n",
    "\n",
    "\n",
    "    dat_list.append(torch.concat((class_1, class_2, class_3), dim=0))\n",
    "\n",
    "dat_list  = []\n",
    "# Indicates first feature iteration to add the class label column\n",
    "for feature in range(n_features-1):\n",
    "    create_feature(False, ground_truth, n_features, n_classes, dataset_size, dat_list)\n",
    "\n",
    "create_feature(True, ground_truth, n_features, n_classes, dataset_size, dat_list)\n",
    "\n",
    "dataset = torch.concat(dat_list, dim=1)\n",
    "dataset.shape"
   ]
  },
  {
   "cell_type": "code",
   "execution_count": 181,
   "metadata": {},
   "outputs": [
    {
     "data": {
      "text/html": [
       "<div>\n",
       "<style scoped>\n",
       "    .dataframe tbody tr th:only-of-type {\n",
       "        vertical-align: middle;\n",
       "    }\n",
       "\n",
       "    .dataframe tbody tr th {\n",
       "        vertical-align: top;\n",
       "    }\n",
       "\n",
       "    .dataframe thead th {\n",
       "        text-align: right;\n",
       "    }\n",
       "</style>\n",
       "<table border=\"1\" class=\"dataframe\">\n",
       "  <thead>\n",
       "    <tr style=\"text-align: right;\">\n",
       "      <th></th>\n",
       "      <th>feature_1</th>\n",
       "      <th>feature_2</th>\n",
       "      <th>target</th>\n",
       "    </tr>\n",
       "  </thead>\n",
       "  <tbody>\n",
       "    <tr>\n",
       "      <th>0</th>\n",
       "      <td>3.668426</td>\n",
       "      <td>3.082209</td>\n",
       "      <td>1.0</td>\n",
       "    </tr>\n",
       "    <tr>\n",
       "      <th>1</th>\n",
       "      <td>3.544445</td>\n",
       "      <td>2.269147</td>\n",
       "      <td>1.0</td>\n",
       "    </tr>\n",
       "    <tr>\n",
       "      <th>2</th>\n",
       "      <td>4.707748</td>\n",
       "      <td>3.948976</td>\n",
       "      <td>1.0</td>\n",
       "    </tr>\n",
       "    <tr>\n",
       "      <th>3</th>\n",
       "      <td>3.536076</td>\n",
       "      <td>3.519657</td>\n",
       "      <td>1.0</td>\n",
       "    </tr>\n",
       "    <tr>\n",
       "      <th>4</th>\n",
       "      <td>4.310557</td>\n",
       "      <td>3.636076</td>\n",
       "      <td>1.0</td>\n",
       "    </tr>\n",
       "    <tr>\n",
       "      <th>...</th>\n",
       "      <td>...</td>\n",
       "      <td>...</td>\n",
       "      <td>...</td>\n",
       "    </tr>\n",
       "    <tr>\n",
       "      <th>95</th>\n",
       "      <td>7.229627</td>\n",
       "      <td>7.512942</td>\n",
       "      <td>3.0</td>\n",
       "    </tr>\n",
       "    <tr>\n",
       "      <th>96</th>\n",
       "      <td>7.354663</td>\n",
       "      <td>8.483055</td>\n",
       "      <td>3.0</td>\n",
       "    </tr>\n",
       "    <tr>\n",
       "      <th>97</th>\n",
       "      <td>8.616027</td>\n",
       "      <td>8.275340</td>\n",
       "      <td>3.0</td>\n",
       "    </tr>\n",
       "    <tr>\n",
       "      <th>98</th>\n",
       "      <td>7.327431</td>\n",
       "      <td>7.277051</td>\n",
       "      <td>3.0</td>\n",
       "    </tr>\n",
       "    <tr>\n",
       "      <th>99</th>\n",
       "      <td>7.512252</td>\n",
       "      <td>8.607672</td>\n",
       "      <td>3.0</td>\n",
       "    </tr>\n",
       "  </tbody>\n",
       "</table>\n",
       "<p>100 rows × 3 columns</p>\n",
       "</div>"
      ],
      "text/plain": [
       "    feature_1  feature_2  target\n",
       "0    3.668426   3.082209     1.0\n",
       "1    3.544445   2.269147     1.0\n",
       "2    4.707748   3.948976     1.0\n",
       "3    3.536076   3.519657     1.0\n",
       "4    4.310557   3.636076     1.0\n",
       "..        ...        ...     ...\n",
       "95   7.229627   7.512942     3.0\n",
       "96   7.354663   8.483055     3.0\n",
       "97   8.616027   8.275340     3.0\n",
       "98   7.327431   7.277051     3.0\n",
       "99   7.512252   8.607672     3.0\n",
       "\n",
       "[100 rows x 3 columns]"
      ]
     },
     "execution_count": 181,
     "metadata": {},
     "output_type": "execute_result"
    }
   ],
   "source": [
    "cur_df = pd.DataFrame(dataset.numpy(), columns=[\"feature_1\", \"feature_2\", \"target\"])\n",
    "cur_df"
   ]
  },
  {
   "cell_type": "code",
   "execution_count": 182,
   "metadata": {},
   "outputs": [],
   "source": [
    "a = cur_df[cur_df[\"target\"] == 1][\"feature_1\"].values\n",
    "b = cur_df[cur_df[\"target\"] == 1][\"feature_2\"].values\n",
    "c = cur_df[cur_df[\"target\"] == 2][\"feature_1\"].values\n",
    "d = cur_df[cur_df[\"target\"] == 2][\"feature_2\"].values\n",
    "e = cur_df[cur_df[\"target\"] == 3][\"feature_1\"].values\n",
    "f = cur_df[cur_df[\"target\"] == 3][\"feature_2\"].values"
   ]
  },
  {
   "cell_type": "code",
   "execution_count": 183,
   "metadata": {},
   "outputs": [
    {
     "data": {
      "text/plain": [
       "Text(0, 0.5, 'feature_2')"
      ]
     },
     "execution_count": 183,
     "metadata": {},
     "output_type": "execute_result"
    },
    {
     "data": {
      "image/png": "[encoded data removed]",
      "text/plain": [
       "<Figure size 640x480 with 1 Axes>"
      ]
     },
     "metadata": {},
     "output_type": "display_data"
    }
   ],
   "source": [
    "plt.title(\"Scatter plot, highlighting the classes\")\n",
    "plt.scatter(a,b, c=\"red\")\n",
    "plt.scatter(c,d, c=\"blue\")\n",
    "plt.scatter(e,f, c=\"green\")\n",
    "plt.xlabel(\"feature_1\")\n",
    "plt.ylabel(\"feature_2\")"
   ]
  },
  {
   "cell_type": "markdown",
   "metadata": {},
   "source": [
    "Splitting dataset and shuffeling"
   ]
  },
  {
   "cell_type": "code",
   "execution_count": 184,
   "metadata": {},
   "outputs": [
    {
     "data": {
      "text/plain": [
       "tensor([[ 3.6684,  3.0822,  1.0000],\n",
       "        [ 3.5444,  2.2691,  1.0000],\n",
       "        [ 4.7077,  3.9490,  1.0000],\n",
       "        [ 3.5361,  3.5197,  1.0000],\n",
       "        [ 4.3106,  3.6361,  1.0000],\n",
       "        [ 3.9971,  3.2038,  1.0000],\n",
       "        [ 4.0530,  2.6789,  1.0000],\n",
       "        [ 3.4381,  2.1858,  1.0000],\n",
       "        [ 4.8269,  3.2614,  1.0000],\n",
       "        [ 5.0328,  3.8206,  1.0000],\n",
       "        [ 4.3131,  3.8233,  1.0000],\n",
       "        [ 4.2079,  2.6285,  1.0000],\n",
       "        [ 3.9596,  3.3258,  1.0000],\n",
       "        [ 3.4804,  2.4969,  1.0000],\n",
       "        [ 3.4388,  3.3190,  1.0000],\n",
       "        [ 3.9405,  3.0007,  1.0000],\n",
       "        [ 3.7474,  2.7012,  1.0000],\n",
       "        [ 3.9326,  3.5065,  1.0000],\n",
       "        [ 3.2689,  3.1053,  1.0000],\n",
       "        [ 3.9611,  2.5918,  1.0000],\n",
       "        [ 4.0393,  2.5561,  1.0000],\n",
       "        [ 4.3970,  2.7260,  1.0000],\n",
       "        [ 4.6863,  3.2895,  1.0000],\n",
       "        [ 3.9333,  3.8818,  1.0000],\n",
       "        [ 4.1423,  3.0333,  1.0000],\n",
       "        [ 4.4305,  2.4194,  1.0000],\n",
       "        [ 4.4345,  2.6074,  1.0000],\n",
       "        [ 4.7247,  3.3530,  1.0000],\n",
       "        [ 3.5662,  1.6449,  1.0000],\n",
       "        [ 3.6564,  3.1449,  1.0000],\n",
       "        [ 3.4878,  2.3816,  1.0000],\n",
       "        [ 4.8645,  3.3065,  1.0000],\n",
       "        [ 3.5901,  2.6870,  1.0000],\n",
       "        [ 1.0674,  5.7727,  2.0000],\n",
       "        [ 1.0285,  6.9550,  2.0000],\n",
       "        [ 1.1031,  6.4682,  2.0000],\n",
       "        [ 0.7611,  6.1981,  2.0000],\n",
       "        [ 1.0439,  6.3393,  2.0000],\n",
       "        [ 1.1258,  6.1523,  2.0000],\n",
       "        [ 0.6240,  6.1324,  2.0000],\n",
       "        [ 1.1322,  6.4676,  2.0000],\n",
       "        [ 0.5386,  6.4842,  2.0000],\n",
       "        [ 0.6144,  6.3428,  2.0000],\n",
       "        [ 0.8489,  5.9577,  2.0000],\n",
       "        [ 1.1203,  5.9162,  2.0000],\n",
       "        [ 0.9060,  5.2644,  2.0000],\n",
       "        [ 1.7033,  6.4411,  2.0000],\n",
       "        [ 0.9447,  5.7044,  2.0000],\n",
       "        [ 0.4948,  5.5342,  2.0000],\n",
       "        [ 0.8972,  6.1737,  2.0000],\n",
       "        [ 0.4324,  5.7853,  2.0000],\n",
       "        [ 1.8246,  5.1525,  2.0000],\n",
       "        [ 1.0872,  6.5713,  2.0000],\n",
       "        [ 0.8419,  5.3983,  2.0000],\n",
       "        [ 0.7843,  6.3334,  2.0000],\n",
       "        [ 1.5311,  6.9505,  2.0000],\n",
       "        [ 1.4008,  6.9281,  2.0000],\n",
       "        [ 1.0986,  6.0900,  2.0000],\n",
       "        [ 0.9951,  5.9903,  2.0000],\n",
       "        [ 0.9499,  5.7317,  2.0000],\n",
       "        [ 0.9875,  6.3694,  2.0000],\n",
       "        [-0.2913,  6.3084,  2.0000],\n",
       "        [ 0.1113,  5.9861,  2.0000],\n",
       "        [ 1.0886,  6.4145,  2.0000],\n",
       "        [ 1.1151,  6.0093,  2.0000],\n",
       "        [ 0.7604,  5.9045,  2.0000],\n",
       "        [ 7.5614,  7.7256,  3.0000],\n",
       "        [ 8.5099,  8.2598,  3.0000],\n",
       "        [ 7.4410,  7.8872,  3.0000],\n",
       "        [ 7.5110,  7.4543,  3.0000],\n",
       "        [ 8.0319,  7.4657,  3.0000],\n",
       "        [ 8.0676,  8.1425,  3.0000],\n",
       "        [ 8.1642,  7.6026,  3.0000],\n",
       "        [ 8.2788,  7.7117,  3.0000],\n",
       "        [ 7.4900,  6.5813,  3.0000],\n",
       "        [ 7.7654,  7.9326,  3.0000],\n",
       "        [ 7.8161,  7.4618,  3.0000],\n",
       "        [ 8.0385,  6.9199,  3.0000],\n",
       "        [ 8.3173,  9.1261,  3.0000],\n",
       "        [ 8.2076,  7.9418,  3.0000],\n",
       "        [ 7.3585,  7.4010,  3.0000],\n",
       "        [ 7.6918,  7.5200,  3.0000],\n",
       "        [ 7.3024,  8.5616,  3.0000],\n",
       "        [ 8.6809,  7.9008,  3.0000],\n",
       "        [ 8.4429,  8.5797,  3.0000],\n",
       "        [ 8.7811,  7.9238,  3.0000],\n",
       "        [ 7.7583,  8.2556,  3.0000],\n",
       "        [ 9.4471,  7.4330,  3.0000],\n",
       "        [ 7.7245,  8.8385,  3.0000],\n",
       "        [ 7.4218,  8.6260,  3.0000],\n",
       "        [ 8.6930,  7.3632,  3.0000],\n",
       "        [ 7.9605,  8.2575,  3.0000],\n",
       "        [ 8.2341,  8.2667,  3.0000],\n",
       "        [ 8.6866,  7.7903,  3.0000],\n",
       "        [ 7.2560,  8.4801,  3.0000],\n",
       "        [ 7.2296,  7.5129,  3.0000],\n",
       "        [ 7.3547,  8.4831,  3.0000],\n",
       "        [ 8.6160,  8.2753,  3.0000],\n",
       "        [ 7.3274,  7.2771,  3.0000],\n",
       "        [ 7.5123,  8.6077,  3.0000]])"
      ]
     },
     "execution_count": 184,
     "metadata": {},
     "output_type": "execute_result"
    }
   ],
   "source": [
    "dataset[:, :]"
   ]
  },
  {
   "cell_type": "code",
   "execution_count": 185,
   "metadata": {},
   "outputs": [],
   "source": [
    "class test_dataset(Dataset):\n",
    "    def __init__(self, raw_dataset):\n",
    "        self.dataset = raw_dataset\n",
    "        \n",
    "    def __len__(self):\n",
    "        return self.dataset.shape[0]\n",
    "\n",
    "    def __getitem__(self, idx):\n",
    "        return self.dataset[idx,:-1], self.dataset[idx, -1]"
   ]
  },
  {
   "cell_type": "code",
   "execution_count": 186,
   "metadata": {},
   "outputs": [],
   "source": [
    "torch_d = test_dataset(dataset)\n",
    "train_d, val_d, test_d = torch.utils.data.random_split(torch_d, [0.6, 0.2, 0.2])"
   ]
  },
  {
   "cell_type": "code",
   "execution_count": 187,
   "metadata": {},
   "outputs": [],
   "source": [
    "# Add DataLoaders\n",
    "train_loader = DataLoader(train_d, batch_size=10, shuffle=True)\n",
    "val_loader = DataLoader(val_d, batch_size=10, shuffle=True)\n",
    "#test_loader = DataLoader(test_d, batch_size=10, shuffle=True)"
   ]
  },
  {
   "cell_type": "code",
   "execution_count": 192,
   "metadata": {},
   "outputs": [
    {
     "name": "stdout",
     "output_type": "stream",
     "text": [
      "60\n",
      "Epoch: 0, mini-batch: 0, loss: 1.2375308275222778\n",
      "Test Error: \n",
      " Accuracy: 25.0%, Avg loss: 0.993791 \n",
      "\n",
      "60\n",
      "Epoch: 1, mini-batch: 0, loss: 0.8377594947814941\n",
      "Test Error: \n",
      " Accuracy: 60.0%, Avg loss: 0.804761 \n",
      "\n",
      "60\n",
      "Epoch: 2, mini-batch: 0, loss: 0.789564847946167\n",
      "Test Error: \n",
      " Accuracy: 80.0%, Avg loss: 0.632761 \n",
      "\n",
      "60\n",
      "Epoch: 3, mini-batch: 0, loss: 0.7623162865638733\n",
      "Test Error: \n",
      " Accuracy: 75.0%, Avg loss: 0.532156 \n",
      "\n",
      "60\n",
      "Epoch: 4, mini-batch: 0, loss: 0.43611472845077515\n",
      "Test Error: \n",
      " Accuracy: 75.0%, Avg loss: 0.480905 \n",
      "\n",
      "60\n",
      "Epoch: 5, mini-batch: 0, loss: 0.2731495797634125\n",
      "Test Error: \n",
      " Accuracy: 85.0%, Avg loss: 0.396577 \n",
      "\n",
      "60\n",
      "Epoch: 6, mini-batch: 0, loss: 0.3416258692741394\n",
      "Test Error: \n",
      " Accuracy: 95.0%, Avg loss: 0.336360 \n",
      "\n",
      "60\n",
      "Epoch: 7, mini-batch: 0, loss: 0.43045514822006226\n",
      "Test Error: \n",
      " Accuracy: 90.0%, Avg loss: 0.302967 \n",
      "\n",
      "60\n",
      "Epoch: 8, mini-batch: 0, loss: 0.3928568959236145\n",
      "Test Error: \n",
      " Accuracy: 90.0%, Avg loss: 0.277344 \n",
      "\n",
      "60\n",
      "Epoch: 9, mini-batch: 0, loss: 0.16347207129001617\n",
      "Test Error: \n",
      " Accuracy: 90.0%, Avg loss: 0.254915 \n",
      "\n"
     ]
    }
   ],
   "source": [
    "class PolicyModel(nn.Module):\n",
    "    def __init__(self, in_features, out_features, device):\n",
    "        super().__init__()\n",
    "        self.hidden_layers = nn.Sequential(\n",
    "            nn.Linear(in_features, 100),\n",
    "            nn.ReLU(),\n",
    "            nn.Linear(100, 100),\n",
    "            nn.ReLU(),\n",
    "            nn.Linear(100, out_features)\n",
    "        ).to(device)\n",
    "\n",
    "    def forward(self, input):\n",
    "        logits = self.hidden_layers(input)\n",
    "        return logits#nn.Softmax(logits)\n",
    "\n",
    "\n",
    "cur_policy = PolicyModel(n_features, n_classes, device)\n",
    "optimizer = torch.optim.Adam(params=cur_policy.parameters())\n",
    "loss_func = torch.nn.CrossEntropyLoss()\n",
    "\n",
    "# For each epoch\n",
    "cur_policy.train()\n",
    "for epoch in range(epochs):\n",
    "    # Iterate over mini-batches\n",
    "    n_train_batches = len(train_loader.dataset)\n",
    "    print(n_train_batches)\n",
    "    for batch, (X, Y) in enumerate(train_loader):\n",
    "        # Make the forward pass\n",
    "        predicted = cur_policy(X)\n",
    "        # Calculate loss\n",
    "        loss = loss_func(predicted, Y.long()-1)\n",
    "        # Make back propagation\n",
    "        loss.backward()\n",
    "        optimizer.step()\n",
    "        optimizer.zero_grad()\n",
    "\n",
    "        if batch % 10 == 0:\n",
    "            print(f\"Epoch: {epoch}, mini-batch: {batch}, loss: {loss.detach()}\")\n",
    "\n",
    "    # Make evaluation at the end of epoch\n",
    "    cur_policy.eval()\n",
    "    size = len(val_loader.dataset)\n",
    "    n_batch = len(val_loader)\n",
    "    val_loss = 0\n",
    "    correct_classified = 0\n",
    "\n",
    "\n",
    "    with torch.inference_mode():\n",
    "        for X, Y in val_loader:\n",
    "            pred = cur_policy(X)    \n",
    "            val_loss += loss_func(pred, Y.long()-1).item()\n",
    "            correct_classified += (pred.argmax(1) == Y.long()-1).type(torch.float).sum().item()\n",
    "\n",
    "    val_loss /= n_batch\n",
    "    correct_classified /= size\n",
    "    print(f\"Test Error: \\n Accuracy: {(100*correct_classified):>0.1f}%, Avg loss: {val_loss:>8f} \\n\")\n",
    "        \n"
   ]
  },
  {
   "cell_type": "code",
   "execution_count": null,
   "metadata": {},
   "outputs": [],
   "source": []
  }
 ],
 "metadata": {
  "kernelspec": {
   "display_name": ".venv",
   "language": "python",
   "name": "python3"
  },
  "language_info": {
   "codemirror_mode": {
    "name": "ipython",
    "version": 3
   },
   "file_extension": ".py",
   "mimetype": "text/x-python",
   "name": "python",
   "nbconvert_exporter": "python",
   "pygments_lexer": "ipython3",
   "version": "3.9.13"
  }
 },
 "nbformat": 4,
 "nbformat_minor": 2
}
